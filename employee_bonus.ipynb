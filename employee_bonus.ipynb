{
 "cells": [
  {
   "cell_type": "code",
   "execution_count": null,
   "id": "7f6d4314",
   "metadata": {},
   "outputs": [],
   "source": [
    "from datetime import date\n",
    "class BonusCalculator:\n",
    "    def calculate_bonus(d1,d2):\n",
    "        id=d1.get('id')\n",
    "        dob=d1.get('dob')\n",
    "        salary=d2.get('salary')\n",
    "        if type(id)!=type(1) or type(salary) !=type(1):\n",
    "            raise ValueError(\"Type should be integer\")\n",
    "        if type(dob)!=type(\" \"):\n",
    "            raise ValueError(\"Type should be string\")\n",
    "        dob=dob.split(\"-\")\n",
    "        year=int(dob[0])\n",
    "        month=int(dob[1])\n",
    "        day=int(dob[2])\n",
    "        d1 = date(year,month,day)# employee dob\n",
    "        d2 = date(2014,9,1)#y,m,d  (given date)\n",
    "        delta = d2-d1\n",
    "        #print(\"Days \",delta.days)\n",
    "        years=delta.days/365\n",
    "        #print(\"Years \",years)\n",
    "        age=int(years)\n",
    "        if (age<25 or age>60) and salary<5000:\n",
    "            salary+=100\n",
    "        elif  age<25 or age>60:\n",
    "            salary+=200\n",
    "        elif salary<5000:\n",
    "            salary+=100\n",
    "        elif age in range(25,31):\n",
    "            salary+=salary*20/100\n",
    "        elif age in range(31,61):\n",
    "            salary+=salary*30/100\n",
    "        emp_result={}\n",
    "        emp_result['id']=id\n",
    "        emp_result['salary']=salary\n",
    "        return emp_result\n"
   ]
  }
 ],
 "metadata": {
  "kernelspec": {
   "display_name": "Python 3 (ipykernel)",
   "language": "python",
   "name": "python3"
  },
  "language_info": {
   "codemirror_mode": {
    "name": "ipython",
    "version": 3
   },
   "file_extension": ".py",
   "mimetype": "text/x-python",
   "name": "python",
   "nbconvert_exporter": "python",
   "pygments_lexer": "ipython3",
   "version": "3.9.0"
  }
 },
 "nbformat": 4,
 "nbformat_minor": 5
}
