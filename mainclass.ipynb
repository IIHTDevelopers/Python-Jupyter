{
 "cells": [
  {
   "cell_type": "code",
   "execution_count": 1,
   "id": "95577590",
   "metadata": {},
   "outputs": [
    {
     "name": "stdout",
     "output_type": "stream",
     "text": [
      "importing Jupyter notebook from employee_bonus.ipynb\n",
      "Enter Number of Employees1\n",
      "Enter Employee ID11\n",
      "Enter Employee Date Of Birth(YYYY-MM-DD)1111-11-11\n",
      "Enter Employee Salary45000\n",
      "Details of All Employees with ids and revised salaries\n",
      "{'id': 11, 'salary': 45200}\n"
     ]
    }
   ],
   "source": [
    "import import_ipynb\n",
    "from employee_bonus import BonusCalculator\n",
    "class MainClass:\n",
    "    def run_calculate_bonus():\n",
    "        d1={}\n",
    "        d2={}\n",
    "        final_emp_result={}\n",
    "        n=int(input(\"Enter Number of Employees\"))\n",
    "        for i in range(n):\n",
    "            id=int(input(\"Enter Employee ID\"))\n",
    "            dob=input(\"Enter Employee Date Of Birth(YYYY-MM-DD)\")\n",
    "            salary=int(input(\"Enter Employee Salary\"))\n",
    "            d1['id']=id\n",
    "            d1['dob']=dob\n",
    "            d2['id']=id\n",
    "            d2['salary']=salary\n",
    "            emp_result=BonusCalculator.calculate_bonus(d1,d2)\n",
    "            final_emp_result[str(i)]=emp_result\n",
    "        print(\"Details of All Employees with ids and revised salaries\")\n",
    "        for k,v in final_emp_result.items():\n",
    "            print(v)\n",
    "    if __name__==\"__main__\":\n",
    "        run_calculate_bonus()"
   ]
  },
  {
   "cell_type": "code",
   "execution_count": null,
   "id": "49444e5b",
   "metadata": {},
   "outputs": [],
   "source": []
  }
 ],
 "metadata": {
  "kernelspec": {
   "display_name": "Python 3 (ipykernel)",
   "language": "python",
   "name": "python3"
  },
  "language_info": {
   "codemirror_mode": {
    "name": "ipython",
    "version": 3
   },
   "file_extension": ".py",
   "mimetype": "text/x-python",
   "name": "python",
   "nbconvert_exporter": "python",
   "pygments_lexer": "ipython3",
   "version": "3.9.0"
  }
 },
 "nbformat": 4,
 "nbformat_minor": 5
}
